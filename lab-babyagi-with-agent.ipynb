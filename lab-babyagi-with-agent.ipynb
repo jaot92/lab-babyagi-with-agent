{
 "cells": [
  {
   "cell_type": "markdown",
   "id": "1cdba6f7-142d-4dd2-96f6-a13bb5d978ce",
   "metadata": {},
   "source": [
    "# Lab | BabyAGI with agent\n",
    "\n",
    "**Change the planner objective below by changing the objective and the associated prompts and potential tools and agents - Wear your creativity and AI engineering hats\n",
    "You can't get this wrong!**\n",
    "\n",
    "You would need the OpenAI API KEY and the [SerpAPI KEY](https://serpapi.com/manage-api-keyhttps://serpapi.com/manage-api-key) to run this lab.\n"
   ]
  },
  {
   "cell_type": "markdown",
   "id": "517a9fd4",
   "metadata": {},
   "source": [
    "## BabyAGI with Tools\n",
    "\n",
    "This notebook builds on top of [baby agi](baby_agi.html), but shows how you can swap out the execution chain. The previous execution chain was just an LLM which made stuff up. By swapping it out with an agent that has access to tools, we can hopefully get real reliable information"
   ]
  },
  {
   "cell_type": "markdown",
   "id": "556af556",
   "metadata": {},
   "source": [
    "## Install and Import Required Modules"
   ]
  },
  {
   "cell_type": "code",
   "execution_count": 1,
   "id": "c8a354b6",
   "metadata": {
    "tags": []
   },
   "outputs": [],
   "source": [
    "from typing import Optional\n"
   ]
  },
  {
   "cell_type": "code",
   "execution_count": null,
   "id": "1f10978e",
   "metadata": {},
   "outputs": [],
   "source": [
    "\n",
    "# Install langchain_experimental first\n",
    "%pip install langchain_experimental\n"
   ]
  },
  {
   "cell_type": "code",
   "execution_count": 2,
   "id": "9d8a7b9c",
   "metadata": {},
   "outputs": [],
   "source": [
    "\n",
    "from langchain.chains import LLMChain\n",
    "from langchain.prompts import PromptTemplate\n",
    "from langchain_experimental.autonomous_agents import BabyAGI\n",
    "from langchain_openai import OpenAI, OpenAIEmbeddings"
   ]
  },
  {
   "cell_type": "markdown",
   "id": "09f70772",
   "metadata": {},
   "source": [
    "## Connect to the Vector Store\n",
    "\n",
    "Depending on what vectorstore you use, this step may look different."
   ]
  },
  {
   "cell_type": "code",
   "execution_count": 5,
   "id": "794045d4",
   "metadata": {
    "tags": []
   },
   "outputs": [
    {
     "name": "stdout",
     "output_type": "stream",
     "text": [
      "Note: you may need to restart the kernel to use updated packages.\n",
      "Note: you may need to restart the kernel to use updated packages.\n"
     ]
    }
   ],
   "source": [
    "%pip install faiss-cpu > /dev/null\n",
    "%pip install google-search-results > /dev/null\n"
   ]
  },
  {
   "cell_type": "code",
   "execution_count": 3,
   "id": "7392ed9c",
   "metadata": {},
   "outputs": [],
   "source": [
    "from langchain.docstore import InMemoryDocstore\n",
    "from langchain_community.vectorstores import FAISS"
   ]
  },
  {
   "cell_type": "code",
   "execution_count": 4,
   "id": "c4164841-915d-4c60-8a47-3a502a5cf71d",
   "metadata": {
    "tags": []
   },
   "outputs": [],
   "source": [
    "import os\n",
    "from dotenv import load_dotenv, find_dotenv\n",
    "_ = load_dotenv(find_dotenv())\n",
    "\n",
    "OPENAI_API_KEY  = os.getenv('OPENAI_API_KEY')\n",
    "SERPAPI_API_KEY = os.getenv('SERPAPI_API_KEY')"
   ]
  },
  {
   "cell_type": "code",
   "execution_count": 5,
   "id": "6e0305eb",
   "metadata": {
    "tags": []
   },
   "outputs": [
    {
     "name": "stderr",
     "output_type": "stream",
     "text": [
      "`embedding_function` is expected to be an Embeddings object, support for passing in a function will soon be removed.\n"
     ]
    }
   ],
   "source": [
    "# Define your embedding model\n",
    "embeddings_model = OpenAIEmbeddings()\n",
    "# Initialize the vectorstore as empty\n",
    "import faiss\n",
    "\n",
    "embedding_size = 1536\n",
    "index = faiss.IndexFlatL2(embedding_size)\n",
    "vectorstore = FAISS(embeddings_model.embed_query, index, InMemoryDocstore({}), {})"
   ]
  },
  {
   "cell_type": "markdown",
   "id": "0f3b72bf",
   "metadata": {},
   "source": [
    "## Define the Chains\n",
    "\n",
    "BabyAGI relies on three LLM chains:\n",
    "- Task creation chain to select new tasks to add to the list\n",
    "- Task prioritization chain to re-prioritize tasks\n",
    "- Execution Chain to execute the tasks\n",
    "\n",
    "\n",
    "NOTE: in this notebook, the Execution chain will now be an agent."
   ]
  },
  {
   "cell_type": "code",
   "execution_count": 6,
   "id": "b43cd580",
   "metadata": {
    "tags": []
   },
   "outputs": [
    {
     "name": "stderr",
     "output_type": "stream",
     "text": [
      "/var/folders/zf/26z9dj9s4rgb9txx_1j9fkv80000gn/T/ipykernel_79815/842275654.py:9: LangChainDeprecationWarning: The class `LLMChain` was deprecated in LangChain 0.1.17 and will be removed in 1.0. Use :meth:`~RunnableSequence, e.g., `prompt | llm`` instead.\n",
      "  todo_chain = LLMChain(llm=OpenAI(temperature=0), prompt=todo_prompt)\n"
     ]
    }
   ],
   "source": [
    "from langchain.agents import AgentExecutor, Tool, ZeroShotAgent\n",
    "from langchain.chains import LLMChain\n",
    "from langchain_community.utilities import SerpAPIWrapper\n",
    "from langchain_openai import OpenAI\n",
    "\n",
    "todo_prompt = PromptTemplate.from_template(\n",
    "    \"You are a planner who is an expert at coming up with a todo list for a given objective. Come up with a todo list for this objective: {objective}\"\n",
    ")\n",
    "todo_chain = LLMChain(llm=OpenAI(temperature=0), prompt=todo_prompt)\n",
    "search = SerpAPIWrapper()\n",
    "tools = [\n",
    "    Tool(\n",
    "        name=\"Search\",\n",
    "        func=search.run,\n",
    "        description=\"useful for when you need to answer questions about current events\",\n",
    "    ),\n",
    "    Tool(\n",
    "        name=\"TODO\",\n",
    "        func=todo_chain.run,\n",
    "        description=\"useful for when you need to come up with todo lists. Input: an objective to create a todo list for. Output: a todo list for that objective. Please be very clear what the objective is!\",\n",
    "    ),\n",
    "]\n",
    "\n",
    "\n",
    "prefix = \"\"\"You are an AI who performs one task based on the following objective: {objective}. Take into account these previously completed tasks: {context}.\"\"\"\n",
    "suffix = \"\"\"Question: {task}\n",
    "{agent_scratchpad}\"\"\"\n",
    "prompt = ZeroShotAgent.create_prompt(\n",
    "    tools,\n",
    "    prefix=prefix,\n",
    "    suffix=suffix,\n",
    "    input_variables=[\"objective\", \"task\", \"context\", \"agent_scratchpad\"],\n",
    ")"
   ]
  },
  {
   "cell_type": "code",
   "execution_count": 7,
   "id": "4b00ae2e",
   "metadata": {
    "tags": []
   },
   "outputs": [
    {
     "name": "stderr",
     "output_type": "stream",
     "text": [
      "/var/folders/zf/26z9dj9s4rgb9txx_1j9fkv80000gn/T/ipykernel_79815/3064747660.py:4: LangChainDeprecationWarning: LangChain agents will continue to be supported, but it is recommended for new use cases to be built with LangGraph. LangGraph offers a more flexible and full-featured framework for building agents, including support for tool-calling, persistence of state, and human-in-the-loop workflows. For details, refer to the `LangGraph documentation <https://langchain-ai.github.io/langgraph/>`_ as well as guides for `Migrating from AgentExecutor <https://python.langchain.com/docs/how_to/migrate_agent/>`_ and LangGraph's `Pre-built ReAct agent <https://langchain-ai.github.io/langgraph/how-tos/create-react-agent/>`_.\n",
      "  agent = ZeroShotAgent(llm_chain=llm_chain, allowed_tools=tool_names)\n"
     ]
    }
   ],
   "source": [
    "llm = OpenAI(temperature=0)\n",
    "llm_chain = LLMChain(llm=llm, prompt=prompt)\n",
    "tool_names = [tool.name for tool in tools]\n",
    "agent = ZeroShotAgent(llm_chain=llm_chain, allowed_tools=tool_names)\n",
    "agent_executor = AgentExecutor.from_agent_and_tools(\n",
    "    agent=agent, tools=tools, verbose=True\n",
    ")"
   ]
  },
  {
   "cell_type": "markdown",
   "id": "05ba762e",
   "metadata": {},
   "source": [
    "### Run the BabyAGI\n",
    "\n",
    "Now it's time to create the BabyAGI controller and watch it try to accomplish your objective."
   ]
  },
  {
   "cell_type": "code",
   "execution_count": 8,
   "id": "3d220b69",
   "metadata": {
    "tags": []
   },
   "outputs": [],
   "source": [
    "OBJECTIVE = \"Write a short weather report only for San Juan, Puerto Rico today.\""
   ]
  },
  {
   "cell_type": "code",
   "execution_count": 9,
   "id": "3d69899b",
   "metadata": {
    "tags": []
   },
   "outputs": [],
   "source": [
    "# Logging of LLMChains\n",
    "verbose = True\n",
    "# If None, will keep on going forever\n",
    "max_iterations: Optional[int] = 3\n",
    "baby_agi = BabyAGI.from_llm(\n",
    "    llm=llm,\n",
    "    vectorstore=vectorstore,\n",
    "    task_execution_chain=agent_executor,\n",
    "    verbose=verbose,\n",
    "    max_iterations=max_iterations,\n",
    ")"
   ]
  },
  {
   "cell_type": "code",
   "execution_count": 10,
   "id": "f7957b51",
   "metadata": {
    "tags": []
   },
   "outputs": [
    {
     "name": "stderr",
     "output_type": "stream",
     "text": [
      "/var/folders/zf/26z9dj9s4rgb9txx_1j9fkv80000gn/T/ipykernel_79815/3867971396.py:1: LangChainDeprecationWarning: The method `Chain.__call__` was deprecated in langchain 0.1.0 and will be removed in 1.0. Use :meth:`~invoke` instead.\n",
      "  baby_agi({\"objective\": OBJECTIVE})\n"
     ]
    },
    {
     "name": "stdout",
     "output_type": "stream",
     "text": [
      "\u001b[95m\u001b[1m\n",
      "*****TASK LIST*****\n",
      "\u001b[0m\u001b[0m\n",
      "1: Make a todo list\n",
      "\u001b[92m\u001b[1m\n",
      "*****NEXT TASK*****\n",
      "\u001b[0m\u001b[0m\n",
      "1: Make a todo list\n",
      "\n",
      "\n",
      "\u001b[1m> Entering new AgentExecutor chain...\u001b[0m\n",
      "\u001b[32;1m\u001b[1;3mThought: I should create a list of tasks to complete\n",
      "Action: TODO\n",
      "Action Input: Write a short weather report only for San Juan, Puerto Rico today.\u001b[0m\n",
      "Observation: \u001b[33;1m\u001b[1;3m\n",
      "\n",
      "1. Check the current weather conditions in San Juan, Puerto Rico.\n",
      "2. Gather information on the temperature, humidity, and wind speed for today.\n",
      "3. Research any potential weather events or warnings for the area.\n",
      "4. Determine the best source for obtaining accurate weather information for San Juan.\n",
      "5. Create a template for the weather report, including sections for current conditions, forecast, and any important updates.\n",
      "6. Begin writing the report, starting with a brief overview of the current weather.\n",
      "7. Include details on the temperature, humidity, and wind speed in the report.\n",
      "8. Check for any updates or changes in the weather conditions and incorporate them into the report.\n",
      "9. Use clear and concise language to describe the weather in San Juan.\n",
      "10. Include any relevant images or graphics to enhance the report.\n",
      "11. Proofread and edit the report for accuracy and clarity.\n",
      "12. Publish the weather report on the designated platform or share it with the intended audience.\n",
      "13. Monitor the weather throughout the day and make any necessary updates to the report.\n",
      "14. Save a copy of the weather report for future reference.\n",
      "15. Follow up with any feedback or questions from the audience.\u001b[0m\n",
      "Thought:\u001b[32;1m\u001b[1;3m I have completed all the necessary tasks for creating a weather report for San Juan, Puerto Rico today.\n",
      "Final Answer: Here is a todo list for creating a weather report for San Juan, Puerto Rico today:\n",
      "\n",
      "1. Check the current weather conditions in San Juan, Puerto Rico.\n",
      "2. Gather information on the temperature, humidity, and wind speed for today.\n",
      "3. Research any potential weather events or warnings for the area.\n",
      "4. Determine the best source for obtaining accurate weather information for San Juan.\n",
      "5. Create a template for the weather report, including sections for current conditions, forecast, and any important updates.\n",
      "6. Begin writing the report, starting with a brief overview of the current weather.\n",
      "7. Include details on the temperature, humidity, and wind speed in the report.\n",
      "8. Check for any updates or changes in the weather conditions and incorporate them into the report.\n",
      "9. Use clear and concise language to describe the weather in San Juan.\n",
      "10. Include any relevant images or graphics to enhance the report.\n",
      "11. Proofread and edit the report for accuracy and clarity.\n",
      "12. Publish the weather report on the designated platform or share it with the intended audience.\n",
      "13. Monitor the weather throughout the day and make any necessary updates to the report.\n",
      "14. Save a copy\u001b[0m\n",
      "\n",
      "\u001b[1m> Finished chain.\u001b[0m\n",
      "\u001b[93m\u001b[1m\n",
      "*****TASK RESULT*****\n",
      "\u001b[0m\u001b[0m\n",
      "Here is a todo list for creating a weather report for San Juan, Puerto Rico today:\n",
      "\n",
      "1. Check the current weather conditions in San Juan, Puerto Rico.\n",
      "2. Gather information on the temperature, humidity, and wind speed for today.\n",
      "3. Research any potential weather events or warnings for the area.\n",
      "4. Determine the best source for obtaining accurate weather information for San Juan.\n",
      "5. Create a template for the weather report, including sections for current conditions, forecast, and any important updates.\n",
      "6. Begin writing the report, starting with a brief overview of the current weather.\n",
      "7. Include details on the temperature, humidity, and wind speed in the report.\n",
      "8. Check for any updates or changes in the weather conditions and incorporate them into the report.\n",
      "9. Use clear and concise language to describe the weather in San Juan.\n",
      "10. Include any relevant images or graphics to enhance the report.\n",
      "11. Proofread and edit the report for accuracy and clarity.\n",
      "12. Publish the weather report on the designated platform or share it with the intended audience.\n",
      "13. Monitor the weather throughout the day and make any necessary updates to the report.\n",
      "14. Save a copy\n",
      "\n",
      "\n",
      "\u001b[1m> Entering new TaskCreationChain chain...\u001b[0m\n",
      "Prompt after formatting:\n",
      "\u001b[32;1m\u001b[1;3mYou are an task creation AI that uses the result of an execution agent to create new tasks with the following objective: Write a short weather report only for San Juan, Puerto Rico today., The last completed task has the result: Here is a todo list for creating a weather report for San Juan, Puerto Rico today:\n",
      "\n",
      "1. Check the current weather conditions in San Juan, Puerto Rico.\n",
      "2. Gather information on the temperature, humidity, and wind speed for today.\n",
      "3. Research any potential weather events or warnings for the area.\n",
      "4. Determine the best source for obtaining accurate weather information for San Juan.\n",
      "5. Create a template for the weather report, including sections for current conditions, forecast, and any important updates.\n",
      "6. Begin writing the report, starting with a brief overview of the current weather.\n",
      "7. Include details on the temperature, humidity, and wind speed in the report.\n",
      "8. Check for any updates or changes in the weather conditions and incorporate them into the report.\n",
      "9. Use clear and concise language to describe the weather in San Juan.\n",
      "10. Include any relevant images or graphics to enhance the report.\n",
      "11. Proofread and edit the report for accuracy and clarity.\n",
      "12. Publish the weather report on the designated platform or share it with the intended audience.\n",
      "13. Monitor the weather throughout the day and make any necessary updates to the report.\n",
      "14. Save a copy. This result was based on this task description: Make a todo list. These are incomplete tasks: . Based on the result, create new tasks to be completed by the AI system that do not overlap with incomplete tasks. Return the tasks as an array.\u001b[0m\n",
      "\n",
      "\u001b[1m> Finished chain.\u001b[0m\n",
      "\n",
      "\n",
      "\u001b[1m> Entering new TaskPrioritizationChain chain...\u001b[0m\n",
      "Prompt after formatting:\n",
      "\u001b[32;1m\u001b[1;3mYou are a task prioritization AI tasked with cleaning the formatting of and reprioritizing the following tasks: 1. Check the current weather conditions in San Juan, Puerto Rico., 2. Gather information on the temperature, humidity, and wind speed for today., 3. Research any potential weather events or warnings for the area., 4. Determine the best source for obtaining accurate weather information for San Juan., 5. Create a template for the weather report, including sections for current conditions, forecast, and any important updates., 6. Begin writing the report, starting with a brief overview of the current weather., 7. Include details on the temperature, humidity, and wind speed in the report., 8. Check for any updates or changes in the weather conditions and incorporate them into the report., 9. Use clear and concise language to describe the weather in San Juan., 10. Include any relevant images or graphics to enhance the report., 11. Proofread and edit the report for accuracy and clarity., 12. Publish the weather report on the designated platform or share it with the intended audience., 13. Monitor the weather throughout the day and make any necessary updates to the report., 14. Save a copy., 15. Check for any potential weather events or warnings for the next 24 hours in San Juan., 16. Research the impact of the current weather conditions on local businesses and residents., 17. Include. Consider the ultimate objective of your team: Write a short weather report only for San Juan, Puerto Rico today.. Do not remove any tasks. Return the result as a numbered list, like: #. First task #. Second task Start the task list with number 2.\u001b[0m\n",
      "\n",
      "\u001b[1m> Finished chain.\u001b[0m\n",
      "\u001b[95m\u001b[1m\n",
      "*****TASK LIST*****\n",
      "\u001b[0m\u001b[0m\n",
      "1: Check the current weather conditions in San Juan, Puerto Rico.\n",
      "2: Gather information on the temperature, humidity, and wind speed for today.\n",
      "3: Research any potential weather events or warnings for the area.\n",
      "4: Determine the best source for obtaining accurate weather information for San Juan.\n",
      "5: Create a template for the weather report, including sections for current conditions, forecast, and any important updates.\n",
      "6: Begin writing the report, starting with a brief overview of the current weather.\n",
      "7: Include details on the temperature, humidity, and wind speed in the report.\n",
      "8: Check for any updates or changes in the weather conditions and incorporate them into the report.\n",
      "9: Use clear and concise language to describe the weather in San Juan.\n",
      "10: Include any relevant images or graphics to enhance the report.\n",
      "11: Proofread and edit the report for accuracy and clarity.\n",
      "12: Publish the weather report on the designated platform or share it with the intended audience.\n",
      "13: Monitor the weather throughout the day and make any necessary updates to the report.\n",
      "14: Save a copy.\n",
      "15: Check for any potential weather events or warnings for the next 24 hours in San Juan.\n",
      "16: Research the impact of the current weather conditions on local businesses and residents.\n",
      "17: Include\n",
      "\u001b[92m\u001b[1m\n",
      "*****NEXT TASK*****\n",
      "\u001b[0m\u001b[0m\n",
      "1: Check the current weather conditions in San Juan, Puerto Rico.\n",
      "\n",
      "\n",
      "\u001b[1m> Entering new AgentExecutor chain...\u001b[0m\n",
      "\u001b[32;1m\u001b[1;3mThought: I should use the Search function to find the current weather conditions.\n",
      "Action: Search\n",
      "Action Input: \"What is the current weather in San Juan, Puerto Rico?\"\u001b[0m\n",
      "Observation: \u001b[36;1m\u001b[1;3m{'type': 'weather_result', 'temperature': '82', 'unit': 'Fahrenheit', 'precipitation': '0%', 'humidity': '71%', 'wind': '11 mph', 'location': 'San Juan, Puerto Rico', 'date': 'Thursday 4:00 PM', 'weather': 'Mostly sunny'}\u001b[0m\n",
      "Thought:\u001b[32;1m\u001b[1;3m I should use the TODO function to create a todo list for writing a weather report.\n",
      "Action: TODO\n",
      "Action Input: \"Write a short weather report only for San Juan, Puerto Rico today.\"\u001b[0m\n",
      "Observation: \u001b[33;1m\u001b[1;3m\n",
      "\n",
      "1. Check the current weather conditions in San Juan, Puerto Rico.\n",
      "2. Gather information on the temperature, humidity, and wind speed for today.\n",
      "3. Research any potential weather patterns or changes that may affect the report.\n",
      "4. Determine the appropriate format for the weather report (e.g. written, video, etc.).\n",
      "5. Create a clear and concise title for the weather report.\n",
      "6. Write an introduction that includes the date and location of the report.\n",
      "7. Include a brief overview of the current weather conditions in San Juan.\n",
      "8. Provide specific details on the temperature, humidity, and wind speed.\n",
      "9. Use descriptive language to paint a picture of the weather for the audience.\n",
      "10. Include any relevant information on potential weather hazards or advisories.\n",
      "11. Double check all information for accuracy and make any necessary edits.\n",
      "12. Choose appropriate visuals or graphics to enhance the report.\n",
      "13. Proofread the report for any spelling or grammatical errors.\n",
      "14. Publish the weather report on the designated platform (e.g. website, social media).\n",
      "15. Share the report with relevant parties (e.g. news outlets, local authorities).\n",
      "16. Monitor for any updates or changes in the weather and make necessary updates to the report.\n",
      "17. Engage with\u001b[0m\n",
      "Thought:\u001b[32;1m\u001b[1;3m I now know the final answer.\n",
      "Final Answer: The current weather conditions in San Juan, Puerto Rico are mostly sunny with a temperature of 82 degrees Fahrenheit, 71% humidity, and 11 mph winds. There is no precipitation expected.\u001b[0m\n",
      "\n",
      "\u001b[1m> Finished chain.\u001b[0m\n",
      "\u001b[93m\u001b[1m\n",
      "*****TASK RESULT*****\n",
      "\u001b[0m\u001b[0m\n",
      "The current weather conditions in San Juan, Puerto Rico are mostly sunny with a temperature of 82 degrees Fahrenheit, 71% humidity, and 11 mph winds. There is no precipitation expected.\n",
      "\n",
      "\n",
      "\u001b[1m> Entering new TaskCreationChain chain...\u001b[0m\n",
      "Prompt after formatting:\n",
      "\u001b[32;1m\u001b[1;3mYou are an task creation AI that uses the result of an execution agent to create new tasks with the following objective: Write a short weather report only for San Juan, Puerto Rico today., The last completed task has the result: The current weather conditions in San Juan, Puerto Rico are mostly sunny with a temperature of 82 degrees Fahrenheit, 71% humidity, and 11 mph winds. There is no precipitation expected.. This result was based on this task description: Check the current weather conditions in San Juan, Puerto Rico.. These are incomplete tasks: Gather information on the temperature, humidity, and wind speed for today., Research any potential weather events or warnings for the area., Determine the best source for obtaining accurate weather information for San Juan., Create a template for the weather report, including sections for current conditions, forecast, and any important updates., Begin writing the report, starting with a brief overview of the current weather., Include details on the temperature, humidity, and wind speed in the report., Check for any updates or changes in the weather conditions and incorporate them into the report., Use clear and concise language to describe the weather in San Juan., Include any relevant images or graphics to enhance the report., Proofread and edit the report for accuracy and clarity., Publish the weather report on the designated platform or share it with the intended audience., Monitor the weather throughout the day and make any necessary updates to the report., Save a copy., Check for any potential weather events or warnings for the next 24 hours in San Juan., Research the impact of the current weather conditions on local businesses and residents., Include. Based on the result, create new tasks to be completed by the AI system that do not overlap with incomplete tasks. Return the tasks as an array.\u001b[0m\n",
      "\n",
      "\u001b[1m> Finished chain.\u001b[0m\n",
      "\n",
      "\n",
      "\u001b[1m> Entering new TaskPrioritizationChain chain...\u001b[0m\n",
      "Prompt after formatting:\n",
      "\u001b[32;1m\u001b[1;3mYou are a task prioritization AI tasked with cleaning the formatting of and reprioritizing the following tasks: Gather information on the temperature, humidity, and wind speed for today., Research any potential weather events or warnings for the area., Determine the best source for obtaining accurate weather information for San Juan., Create a template for the weather report, including sections for current conditions, forecast, and any important updates., Begin writing the report, starting with a brief overview of the current weather., Include details on the temperature, humidity, and wind speed in the report., Check for any updates or changes in the weather conditions and incorporate them into the report., Use clear and concise language to describe the weather in San Juan., Include any relevant images or graphics to enhance the report., Proofread and edit the report for accuracy and clarity., Publish the weather report on the designated platform or share it with the intended audience., Monitor the weather throughout the day and make any necessary updates to the report., Save a copy., Check for any potential weather events or warnings for the next 24 hours in San Juan., Research the impact of the current weather conditions on local businesses and residents., Include, 1. Gather information on the temperature, humidity, and wind speed for tomorrow., 2. Research any potential weather events or warnings for the area for the next 24 hours., 3. Determine the best source for obtaining accurate weather information for San Juan., 4. Create a template for the weather report, including sections for current conditions, forecast, and any important updates., 5. Begin writing the report, starting with a brief overview of the current weather., 6. Include details on the temperature, humidity, and wind speed in the report., 7. Check for any updates or changes in the weather conditions and incorporate them into the report., 8. Use clear and concise language to describe the weather in San Juan., 9. Include any relevant images or graphics to enhance the report., 10. Proofread and edit the report for accuracy and clarity., 11. Publish the weather report on the designated platform or share it with the intended audience., 12. Monitor the weather throughout the day and make any necessary updates to the report., 13. Save a copy., 14. Check for any potential weather events or warnings for the next 24 hours in San Juan., 15. Research the impact of the current weather conditions on local businesses and residents., 16. Include details on the potential impact of the weather. Consider the ultimate objective of your team: Write a short weather report only for San Juan, Puerto Rico today.. Do not remove any tasks. Return the result as a numbered list, like: #. First task #. Second task Start the task list with number 2.\u001b[0m\n",
      "\n",
      "\u001b[1m> Finished chain.\u001b[0m\n",
      "\u001b[95m\u001b[1m\n",
      "*****TASK LIST*****\n",
      "\u001b[0m\u001b[0m\n",
      "1: Gather information on the temperature, humidity, and wind speed for today.\n",
      "2: Research any potential weather events or warnings for the area.\n",
      "3: Determine the best source for obtaining accurate weather information for San Juan.\n",
      "4: Create a template for the weather report, including sections for current conditions, forecast, and any important updates.\n",
      "5: Begin writing the report, starting with a brief overview of the current weather.\n",
      "6: Include details on the temperature, humidity, and wind speed in the report.\n",
      "7: Check for any updates or changes in the weather conditions and incorporate them into the report.\n",
      "8: Use clear and concise language to describe the weather in San Juan.\n",
      "9: Include any relevant images or graphics to enhance the report.\n",
      "10: Proofread and edit the report for accuracy and clarity.\n",
      "11: Publish the weather report on the designated platform or share it with the intended audience.\n",
      "12: Monitor the weather throughout the day and make any necessary updates to the report.\n",
      "13: Save a copy.\n",
      "14: Check for any potential weather events or warnings for the next 24 hours in San Juan.\n",
      "15: Research the impact of the current weather conditions on local businesses and residents.\n",
      "16: Include details on the potential impact of the weather.\n",
      "17: Gather information on\n",
      "\u001b[92m\u001b[1m\n",
      "*****NEXT TASK*****\n",
      "\u001b[0m\u001b[0m\n",
      "1: Gather information on the temperature, humidity, and wind speed for today.\n",
      "\n",
      "\n",
      "\u001b[1m> Entering new AgentExecutor chain...\u001b[0m\n",
      "\u001b[32;1m\u001b[1;3mThought: I should use the Search function to find the current weather conditions in San Juan, Puerto Rico.\n",
      "Action: Search\n",
      "Action Input: \"current weather conditions in San Juan, Puerto Rico\"\u001b[0m\n",
      "Observation: \u001b[36;1m\u001b[1;3m{'type': 'weather_result', 'temperature': '82', 'unit': 'Fahrenheit', 'precipitation': '0%', 'humidity': '71%', 'wind': '11 mph', 'location': 'San Juan, Puerto Rico', 'date': 'Thursday 4:00 PM', 'weather': 'Mostly sunny'}\u001b[0m\n",
      "Thought:\u001b[32;1m\u001b[1;3m I should extract the relevant information from the weather result.\n",
      "Action: TODO\n",
      "Action Input: \"create a todo list for extracting relevant weather information\"\u001b[0m\n",
      "Observation: \u001b[33;1m\u001b[1;3m\n",
      "\n",
      "1. Define the objective: The first step in creating a todo list is to clearly define the objective. In this case, the objective is to create a todo list for extracting relevant weather information.\n",
      "\n",
      "2. Identify the sources of weather information: The next step is to identify the sources from where you can extract weather information. This can include weather websites, apps, news channels, and local weather stations.\n",
      "\n",
      "3. Determine the type of weather information needed: Weather information can include temperature, precipitation, wind speed, humidity, and more. Determine which specific types of weather information are relevant to your needs.\n",
      "\n",
      "4. Prioritize the information: Once you have identified the sources and types of weather information, prioritize them based on their importance. This will help you focus on the most relevant information first.\n",
      "\n",
      "5. Set a schedule for checking the weather: Depending on your needs, you may need to check the weather multiple times a day or just once a day. Set a schedule for when you will check the weather to ensure you have the most up-to-date information.\n",
      "\n",
      "6. Use reliable sources: Make sure to use reliable sources for your weather information. This will ensure that the information you are extracting is accurate and trustworthy.\n",
      "\n",
      "7. Consider the location: Weather can vary greatly depending on the location\u001b[0m\n",
      "Thought:\u001b[32;1m\u001b[1;3m I now know the final answer.\n",
      "Final Answer: The current weather conditions in San Juan, Puerto Rico are mostly sunny with a temperature of 82 degrees Fahrenheit, 0% chance of precipitation, 71% humidity, and wind speeds of 11 mph.\u001b[0m\n",
      "\n",
      "\u001b[1m> Finished chain.\u001b[0m\n",
      "\u001b[93m\u001b[1m\n",
      "*****TASK RESULT*****\n",
      "\u001b[0m\u001b[0m\n",
      "The current weather conditions in San Juan, Puerto Rico are mostly sunny with a temperature of 82 degrees Fahrenheit, 0% chance of precipitation, 71% humidity, and wind speeds of 11 mph.\n",
      "\n",
      "\n",
      "\u001b[1m> Entering new TaskCreationChain chain...\u001b[0m\n",
      "Prompt after formatting:\n",
      "\u001b[32;1m\u001b[1;3mYou are an task creation AI that uses the result of an execution agent to create new tasks with the following objective: Write a short weather report only for San Juan, Puerto Rico today., The last completed task has the result: The current weather conditions in San Juan, Puerto Rico are mostly sunny with a temperature of 82 degrees Fahrenheit, 0% chance of precipitation, 71% humidity, and wind speeds of 11 mph.. This result was based on this task description: Gather information on the temperature, humidity, and wind speed for today.. These are incomplete tasks: Research any potential weather events or warnings for the area., Determine the best source for obtaining accurate weather information for San Juan., Create a template for the weather report, including sections for current conditions, forecast, and any important updates., Begin writing the report, starting with a brief overview of the current weather., Include details on the temperature, humidity, and wind speed in the report., Check for any updates or changes in the weather conditions and incorporate them into the report., Use clear and concise language to describe the weather in San Juan., Include any relevant images or graphics to enhance the report., Proofread and edit the report for accuracy and clarity., Publish the weather report on the designated platform or share it with the intended audience., Monitor the weather throughout the day and make any necessary updates to the report., Save a copy., Check for any potential weather events or warnings for the next 24 hours in San Juan., Research the impact of the current weather conditions on local businesses and residents., Include details on the potential impact of the weather., Gather information on. Based on the result, create new tasks to be completed by the AI system that do not overlap with incomplete tasks. Return the tasks as an array.\u001b[0m\n",
      "\n",
      "\u001b[1m> Finished chain.\u001b[0m\n",
      "\n",
      "\n",
      "\u001b[1m> Entering new TaskPrioritizationChain chain...\u001b[0m\n",
      "Prompt after formatting:\n",
      "\u001b[32;1m\u001b[1;3mYou are a task prioritization AI tasked with cleaning the formatting of and reprioritizing the following tasks: Research any potential weather events or warnings for the area., Determine the best source for obtaining accurate weather information for San Juan., Create a template for the weather report, including sections for current conditions, forecast, and any important updates., Begin writing the report, starting with a brief overview of the current weather., Include details on the temperature, humidity, and wind speed in the report., Check for any updates or changes in the weather conditions and incorporate them into the report., Use clear and concise language to describe the weather in San Juan., Include any relevant images or graphics to enhance the report., Proofread and edit the report for accuracy and clarity., Publish the weather report on the designated platform or share it with the intended audience., Monitor the weather throughout the day and make any necessary updates to the report., Save a copy., Check for any potential weather events or warnings for the next 24 hours in San Juan., Research the impact of the current weather conditions on local businesses and residents., Include details on the potential impact of the weather., Gather information on, 1. Research any potential weather events or warnings for the area., 2. Determine the best source for obtaining accurate weather information for San Juan., 3. Create a template for the weather report, including sections for current conditions, forecast, and any important updates., 4. Begin writing the report, starting with a brief overview of the current weather., 5. Include details on the temperature, humidity, and wind speed in the report., 6. Check for any updates or changes in the weather conditions and incorporate them into the report., 7. Use clear and concise language to describe the weather in San Juan., 8. Include any relevant images or graphics to enhance the report., 9. Proofread and edit the report for accuracy and clarity., 10. Publish the weather report on the designated platform or share it with the intended audience., 11. Monitor the weather throughout the day and make any necessary updates to the report., 12. Save a copy., 13. Check for any potential weather events or warnings for the next 24 hours in San Juan., 14. Research the impact of the current weather conditions on local businesses and residents., 15. Include details on the potential impact of the weather., 16. Gather information on the temperature, humidity, and wind speed for tomorrow., 17. Create a forecast. Consider the ultimate objective of your team: Write a short weather report only for San Juan, Puerto Rico today.. Do not remove any tasks. Return the result as a numbered list, like: #. First task #. Second task Start the task list with number 2.\u001b[0m\n",
      "\n",
      "\u001b[1m> Finished chain.\u001b[0m\n",
      "\u001b[91m\u001b[1m\n",
      "*****TASK ENDING*****\n",
      "\u001b[0m\u001b[0m\n"
     ]
    },
    {
     "data": {
      "text/plain": [
       "{'objective': 'Write a short weather report only for San Juan, Puerto Rico today.'}"
      ]
     },
     "execution_count": 10,
     "metadata": {},
     "output_type": "execute_result"
    }
   ],
   "source": [
    "baby_agi({\"objective\": OBJECTIVE})"
   ]
  }
 ],
 "metadata": {
  "kernelspec": {
   "display_name": "LangChainWeek",
   "language": "python",
   "name": "python3"
  },
  "language_info": {
   "codemirror_mode": {
    "name": "ipython",
    "version": 3
   },
   "file_extension": ".py",
   "mimetype": "text/x-python",
   "name": "python",
   "nbconvert_exporter": "python",
   "pygments_lexer": "ipython3",
   "version": "3.9.21"
  }
 },
 "nbformat": 4,
 "nbformat_minor": 5
}
